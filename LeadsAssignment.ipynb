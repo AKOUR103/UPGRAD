{
 "cells": [
  {
   "cell_type": "code",
   "execution_count": 2,
   "id": "3f40e38e-ec79-4169-a864-e407b1b5b3d9",
   "metadata": {},
   "outputs": [
    {
     "name": "stdout",
     "output_type": "stream",
     "text": [
      "                            Prospect ID  Lead Number              Lead Origin  \\\n",
      "0  7927b2df-8bba-4d29-b9a2-b6e0beafe620       660737                      API   \n",
      "1  2a272436-5132-4136-86fa-dcc88c88f482       660728                      API   \n",
      "2  8cc8c611-a219-4f35-ad23-fdfd2656bd8a       660727  Landing Page Submission   \n",
      "3  0cc2df48-7cf4-4e39-9de9-19797f9b38cc       660719  Landing Page Submission   \n",
      "4  3256f628-e534-4826-9d63-4a8b88782852       660681  Landing Page Submission   \n",
      "\n",
      "      Lead Source Do Not Email Do Not Call  Converted  TotalVisits  \\\n",
      "0      Olark Chat           No          No          0          0.0   \n",
      "1  Organic Search           No          No          0          5.0   \n",
      "2  Direct Traffic           No          No          1          2.0   \n",
      "3  Direct Traffic           No          No          0          1.0   \n",
      "4          Google           No          No          1          2.0   \n",
      "\n",
      "   Total Time Spent on Website  Page Views Per Visit  ...  \\\n",
      "0                            0                   0.0  ...   \n",
      "1                          674                   2.5  ...   \n",
      "2                         1532                   2.0  ...   \n",
      "3                          305                   1.0  ...   \n",
      "4                         1428                   1.0  ...   \n",
      "\n",
      "  Get updates on DM Content    Lead Profile    City  \\\n",
      "0                        No          Select  Select   \n",
      "1                        No          Select  Select   \n",
      "2                        No  Potential Lead  Mumbai   \n",
      "3                        No          Select  Mumbai   \n",
      "4                        No          Select  Mumbai   \n",
      "\n",
      "  Asymmetrique Activity Index Asymmetrique Profile Index  \\\n",
      "0                   02.Medium                  02.Medium   \n",
      "1                   02.Medium                  02.Medium   \n",
      "2                   02.Medium                    01.High   \n",
      "3                   02.Medium                    01.High   \n",
      "4                   02.Medium                    01.High   \n",
      "\n",
      "  Asymmetrique Activity Score Asymmetrique Profile Score  \\\n",
      "0                        15.0                       15.0   \n",
      "1                        15.0                       15.0   \n",
      "2                        14.0                       20.0   \n",
      "3                        13.0                       17.0   \n",
      "4                        15.0                       18.0   \n",
      "\n",
      "  I agree to pay the amount through cheque  \\\n",
      "0                                       No   \n",
      "1                                       No   \n",
      "2                                       No   \n",
      "3                                       No   \n",
      "4                                       No   \n",
      "\n",
      "  A free copy of Mastering The Interview Last Notable Activity  \n",
      "0                                     No              Modified  \n",
      "1                                     No          Email Opened  \n",
      "2                                    Yes          Email Opened  \n",
      "3                                     No              Modified  \n",
      "4                                     No              Modified  \n",
      "\n",
      "[5 rows x 37 columns]\n"
     ]
    }
   ],
   "source": [
    "#Step 1: Data Preprocessing\n",
    "Check for Missing Values\n",
    "import pandas as pd\n",
    "\n",
    "# Load the dataset\n",
    "data = pd.read_csv('Leads.csv') \n",
    "\n",
    "# Display the first few rows of the dataset\n",
    "print(data.head())\n"
   ]
  },
  {
   "cell_type": "code",
   "execution_count": 3,
   "id": "2e1f0534-a290-44e1-a73b-c1d91c574654",
   "metadata": {},
   "outputs": [
    {
     "name": "stdout",
     "output_type": "stream",
     "text": [
      "Prospect ID                                         0\n",
      "Lead Number                                         0\n",
      "Lead Origin                                         0\n",
      "Lead Source                                        36\n",
      "Do Not Email                                        0\n",
      "Do Not Call                                         0\n",
      "Converted                                           0\n",
      "TotalVisits                                       137\n",
      "Total Time Spent on Website                         0\n",
      "Page Views Per Visit                              137\n",
      "Last Activity                                     103\n",
      "Country                                          2461\n",
      "Specialization                                   1438\n",
      "How did you hear about X Education               2207\n",
      "What is your current occupation                  2690\n",
      "What matters most to you in choosing a course    2709\n",
      "Search                                              0\n",
      "Magazine                                            0\n",
      "Newspaper Article                                   0\n",
      "X Education Forums                                  0\n",
      "Newspaper                                           0\n",
      "Digital Advertisement                               0\n",
      "Through Recommendations                             0\n",
      "Receive More Updates About Our Courses              0\n",
      "Tags                                             3353\n",
      "Lead Quality                                     4767\n",
      "Update me on Supply Chain Content                   0\n",
      "Get updates on DM Content                           0\n",
      "Lead Profile                                     2709\n",
      "City                                             1420\n",
      "Asymmetrique Activity Index                      4218\n",
      "Asymmetrique Profile Index                       4218\n",
      "Asymmetrique Activity Score                      4218\n",
      "Asymmetrique Profile Score                       4218\n",
      "I agree to pay the amount through cheque            0\n",
      "A free copy of Mastering The Interview              0\n",
      "Last Notable Activity                               0\n",
      "dtype: int64\n"
     ]
    }
   ],
   "source": [
    "# Step 2:Check for missing values in the dataset\n",
    "missing_values = data.isnull().sum()\n",
    "print(missing_values)\n"
   ]
  },
  {
   "cell_type": "code",
   "execution_count": 5,
   "id": "c688cd47-69f4-4ef4-9ee3-0603c008160a",
   "metadata": {},
   "outputs": [
    {
     "name": "stdout",
     "output_type": "stream",
     "text": [
      "Missing values in each column:\n",
      " Prospect ID                                         0\n",
      "Lead Number                                         0\n",
      "Lead Origin                                         0\n",
      "Lead Source                                        36\n",
      "Do Not Email                                        0\n",
      "Do Not Call                                         0\n",
      "Converted                                           0\n",
      "TotalVisits                                       137\n",
      "Total Time Spent on Website                         0\n",
      "Page Views Per Visit                              137\n",
      "Last Activity                                     103\n",
      "Country                                          2461\n",
      "Specialization                                   1438\n",
      "How did you hear about X Education               2207\n",
      "What is your current occupation                  2690\n",
      "What matters most to you in choosing a course    2709\n",
      "Search                                              0\n",
      "Magazine                                            0\n",
      "Newspaper Article                                   0\n",
      "X Education Forums                                  0\n",
      "Newspaper                                           0\n",
      "Digital Advertisement                               0\n",
      "Through Recommendations                             0\n",
      "Receive More Updates About Our Courses              0\n",
      "Tags                                             3353\n",
      "Lead Quality                                     4767\n",
      "Update me on Supply Chain Content                   0\n",
      "Get updates on DM Content                           0\n",
      "Lead Profile                                     2709\n",
      "City                                             1420\n",
      "Asymmetrique Activity Index                      4218\n",
      "Asymmetrique Profile Index                       4218\n",
      "Asymmetrique Activity Score                      4218\n",
      "Asymmetrique Profile Score                       4218\n",
      "I agree to pay the amount through cheque            0\n",
      "A free copy of Mastering The Interview              0\n",
      "Last Notable Activity                               0\n",
      "dtype: int64\n",
      "Missing values after imputation:\n",
      " Prospect ID                                      0\n",
      "Lead Number                                      0\n",
      "Lead Origin                                      0\n",
      "Lead Source                                      0\n",
      "Do Not Email                                     0\n",
      "Do Not Call                                      0\n",
      "Converted                                        0\n",
      "TotalVisits                                      0\n",
      "Total Time Spent on Website                      0\n",
      "Page Views Per Visit                             0\n",
      "Last Activity                                    0\n",
      "Country                                          0\n",
      "Specialization                                   0\n",
      "How did you hear about X Education               0\n",
      "What is your current occupation                  0\n",
      "What matters most to you in choosing a course    0\n",
      "Search                                           0\n",
      "Magazine                                         0\n",
      "Newspaper Article                                0\n",
      "X Education Forums                               0\n",
      "Newspaper                                        0\n",
      "Digital Advertisement                            0\n",
      "Through Recommendations                          0\n",
      "Receive More Updates About Our Courses           0\n",
      "Tags                                             0\n",
      "Lead Quality                                     0\n",
      "Update me on Supply Chain Content                0\n",
      "Get updates on DM Content                        0\n",
      "Lead Profile                                     0\n",
      "City                                             0\n",
      "Asymmetrique Activity Index                      0\n",
      "Asymmetrique Profile Index                       0\n",
      "Asymmetrique Activity Score                      0\n",
      "Asymmetrique Profile Score                       0\n",
      "I agree to pay the amount through cheque         0\n",
      "A free copy of Mastering The Interview           0\n",
      "Last Notable Activity                            0\n",
      "dtype: int64\n"
     ]
    }
   ],
   "source": [
    "import pandas as pd\n",
    "\n",
    "# Load the dataset\n",
    "data = pd.read_csv('Leads.csv')  \n",
    "\n",
    "# Check for missing values\n",
    "missing_values = data.isnull().sum()\n",
    "print(\"Missing values in each column:\\n\", missing_values)\n",
    "\n",
    "# Fill missing numerical values with the median\n",
    "numerical_cols = data.select_dtypes(include=['int64', 'float64']).columns\n",
    "data[numerical_cols] = data[numerical_cols].fillna(data[numerical_cols].median())\n",
    "\n",
    "# For categorical variables, fill missing values with the mode (most frequent value)\n",
    "categorical_cols = data.select_dtypes(include='object').columns\n",
    "for col in categorical_cols:\n",
    "    data[col].fillna(data[col].mode()[0], inplace=True)\n",
    "\n",
    "# Check if there are any missing values left\n",
    "missing_values_after = data.isnull().sum()\n",
    "print(\"Missing values after imputation:\\n\", missing_values_after)\n",
    "\n"
   ]
  },
  {
   "cell_type": "code",
   "execution_count": 6,
   "id": "e8bcb422-e951-433d-916e-2761af2ceaab",
   "metadata": {},
   "outputs": [
    {
     "name": "stdout",
     "output_type": "stream",
     "text": [
      "Prospect ID                                      0\n",
      "Lead Number                                      0\n",
      "Lead Origin                                      0\n",
      "Lead Source                                      0\n",
      "Do Not Email                                     0\n",
      "Do Not Call                                      0\n",
      "Converted                                        0\n",
      "TotalVisits                                      0\n",
      "Total Time Spent on Website                      0\n",
      "Page Views Per Visit                             0\n",
      "Last Activity                                    0\n",
      "Country                                          0\n",
      "Specialization                                   0\n",
      "How did you hear about X Education               0\n",
      "What is your current occupation                  0\n",
      "What matters most to you in choosing a course    0\n",
      "Search                                           0\n",
      "Magazine                                         0\n",
      "Newspaper Article                                0\n",
      "X Education Forums                               0\n",
      "Newspaper                                        0\n",
      "Digital Advertisement                            0\n",
      "Through Recommendations                          0\n",
      "Receive More Updates About Our Courses           0\n",
      "Tags                                             0\n",
      "Lead Quality                                     0\n",
      "Update me on Supply Chain Content                0\n",
      "Get updates on DM Content                        0\n",
      "Lead Profile                                     0\n",
      "City                                             0\n",
      "Asymmetrique Activity Index                      0\n",
      "Asymmetrique Profile Index                       0\n",
      "Asymmetrique Activity Score                      0\n",
      "Asymmetrique Profile Score                       0\n",
      "I agree to pay the amount through cheque         0\n",
      "A free copy of Mastering The Interview           0\n",
      "Last Notable Activity                            0\n",
      "dtype: int64\n"
     ]
    }
   ],
   "source": [
    "# Verify if there are still any missing values\n",
    "print(data.isnull().sum())\n"
   ]
  },
  {
   "cell_type": "code",
   "execution_count": 8,
   "id": "6350a05c-7afd-4bdb-8dd6-0c8a9e0123ca",
   "metadata": {},
   "outputs": [
    {
     "name": "stdout",
     "output_type": "stream",
     "text": [
      "Prospect ID                                      0\n",
      "Lead Number                                      0\n",
      "Lead Origin                                      0\n",
      "Lead Source                                      0\n",
      "Do Not Email                                     0\n",
      "Do Not Call                                      0\n",
      "Converted                                        0\n",
      "TotalVisits                                      0\n",
      "Total Time Spent on Website                      0\n",
      "Page Views Per Visit                             0\n",
      "Last Activity                                    0\n",
      "Country                                          0\n",
      "Specialization                                   0\n",
      "How did you hear about X Education               0\n",
      "What is your current occupation                  0\n",
      "What matters most to you in choosing a course    0\n",
      "Search                                           0\n",
      "Magazine                                         0\n",
      "Newspaper Article                                0\n",
      "X Education Forums                               0\n",
      "Newspaper                                        0\n",
      "Digital Advertisement                            0\n",
      "Through Recommendations                          0\n",
      "Receive More Updates About Our Courses           0\n",
      "Tags                                             0\n",
      "Lead Quality                                     0\n",
      "Update me on Supply Chain Content                0\n",
      "Get updates on DM Content                        0\n",
      "Lead Profile                                     0\n",
      "City                                             0\n",
      "Asymmetrique Activity Index                      0\n",
      "Asymmetrique Profile Index                       0\n",
      "Asymmetrique Activity Score                      0\n",
      "Asymmetrique Profile Score                       0\n",
      "I agree to pay the amount through cheque         0\n",
      "A free copy of Mastering The Interview           0\n",
      "Last Notable Activity                            0\n",
      "dtype: int64\n"
     ]
    }
   ],
   "source": [
    "import pandas as pd\n",
    "# 1. Fill missing values for numerical columns with the median\n",
    "numerical_cols = data.select_dtypes(include=['int64', 'float64']).columns  # Get numerical columns\n",
    "data[numerical_cols] = data[numerical_cols].fillna(data[numerical_cols].median())\n",
    "\n",
    "# 2. Fill missing values for categorical columns with the mode (most frequent value)\n",
    "categorical_cols = data.select_dtypes(include=['object']).columns  # Get categorical columns\n",
    "for col in categorical_cols:\n",
    "    data[col].fillna(data[col].mode()[0], inplace=True)\n",
    "\n",
    "# Check if there are any missing values left\n",
    "print(data.isnull().sum())  # Should show no missing values after imputation\n",
    "\n"
   ]
  },
  {
   "cell_type": "code",
   "execution_count": 9,
   "id": "aead46ea-35f1-4c53-8019-3941dd5eb703",
   "metadata": {},
   "outputs": [
    {
     "name": "stdout",
     "output_type": "stream",
     "text": [
      "                            Prospect ID  Lead Number              Lead Origin  \\\n",
      "0  7927b2df-8bba-4d29-b9a2-b6e0beafe620     1.860674                      API   \n",
      "1  2a272436-5132-4136-86fa-dcc88c88f482     1.860289                      API   \n",
      "2  8cc8c611-a219-4f35-ad23-fdfd2656bd8a     1.860246  Landing Page Submission   \n",
      "3  0cc2df48-7cf4-4e39-9de9-19797f9b38cc     1.859905  Landing Page Submission   \n",
      "4  3256f628-e534-4826-9d63-4a8b88782852     1.858281  Landing Page Submission   \n",
      "\n",
      "      Lead Source Do Not Email Do Not Call  Converted  TotalVisits  \\\n",
      "0      Olark Chat           No          No  -0.791863    -0.713593   \n",
      "1  Organic Search           No          No  -0.791863     0.324018   \n",
      "2  Direct Traffic           No          No   1.262845    -0.298549   \n",
      "3  Direct Traffic           No          No  -0.791863    -0.506071   \n",
      "4          Google           No          No   1.262845    -0.298549   \n",
      "\n",
      "   Total Time Spent on Website  Page Views Per Visit  ...  \\\n",
      "0                    -0.889974             -1.098699  ...   \n",
      "1                     0.339972              0.066441  ...   \n",
      "2                     1.905689             -0.166587  ...   \n",
      "3                    -0.333396             -0.632643  ...   \n",
      "4                     1.715905             -0.632643  ...   \n",
      "\n",
      "  Get updates on DM Content    Lead Profile    City  \\\n",
      "0                        No          Select  Select   \n",
      "1                        No          Select  Select   \n",
      "2                        No  Potential Lead  Mumbai   \n",
      "3                        No          Select  Mumbai   \n",
      "4                        No          Select  Mumbai   \n",
      "\n",
      "  Asymmetrique Activity Index Asymmetrique Profile Index  \\\n",
      "0                   02.Medium                  02.Medium   \n",
      "1                   02.Medium                  02.Medium   \n",
      "2                   02.Medium                    01.High   \n",
      "3                   02.Medium                    01.High   \n",
      "4                   02.Medium                    01.High   \n",
      "\n",
      "  Asymmetrique Activity Score Asymmetrique Profile Score  \\\n",
      "0                    0.806509                  -0.882017   \n",
      "1                    0.806509                  -0.882017   \n",
      "2                   -0.161050                   2.831907   \n",
      "3                   -1.128609                   0.603553   \n",
      "4                    0.806509                   1.346338   \n",
      "\n",
      "  I agree to pay the amount through cheque  \\\n",
      "0                                       No   \n",
      "1                                       No   \n",
      "2                                       No   \n",
      "3                                       No   \n",
      "4                                       No   \n",
      "\n",
      "  A free copy of Mastering The Interview Last Notable Activity  \n",
      "0                                     No              Modified  \n",
      "1                                     No          Email Opened  \n",
      "2                                    Yes          Email Opened  \n",
      "3                                     No              Modified  \n",
      "4                                     No              Modified  \n",
      "\n",
      "[5 rows x 37 columns]\n"
     ]
    }
   ],
   "source": [
    "from sklearn.preprocessing import StandardScaler\n",
    "\n",
    "# Identify numerical columns\n",
    "numerical_cols = data.select_dtypes(include=['int64', 'float64']).columns\n",
    "\n",
    "# Initialize the scaler\n",
    "scaler = StandardScaler()\n",
    "\n",
    "# Apply scaling to numerical columns\n",
    "data[numerical_cols] = scaler.fit_transform(data[numerical_cols])\n",
    "\n",
    "# Display the first few rows after scaling\n",
    "print(data.head())\n"
   ]
  },
  {
   "cell_type": "code",
   "execution_count": 26,
   "id": "e0c14061-4240-4bec-8fc7-18af4db8cb2f",
   "metadata": {},
   "outputs": [
    {
     "name": "stdout",
     "output_type": "stream",
     "text": [
      "Precision: 0.7257844474761255\n",
      "Recall: 0.49396471680594245\n",
      "F1 Score: 0.5878453038674033\n"
     ]
    }
   ],
   "source": [
    "# Step 4: Evaluate the model's performance\n",
    "from sklearn.metrics import precision_score, recall_score, f1_score\n",
    "\n",
    "# Calculate metrics\n",
    "precision = precision_score(y_test, y_pred)\n",
    "recall = recall_score(y_test, y_pred)\n",
    "f1 = f1_score(y_test, y_pred)\n",
    "\n",
    "# Print the results\n",
    "print(f\"Precision: {precision}\")\n",
    "print(f\"Recall: {recall}\")\n",
    "print(f\"F1 Score: {f1}\")\n"
   ]
  },
  {
   "cell_type": "code",
   "execution_count": null,
   "id": "c4bee309-2774-48a9-843b-9d1d850a1b79",
   "metadata": {},
   "outputs": [],
   "source": [
    "# Define features (X) and target (y)\n",
    "X = data.drop(columns='Converted')  # Drop the 'Converted' column from the features\n",
    "y = data['Converted']  # 'Converted' column is the target variable\n"
   ]
  },
  {
   "cell_type": "code",
   "execution_count": 14,
   "id": "588cd8f0-37d4-49be-b798-dade50bc1259",
   "metadata": {},
   "outputs": [
    {
     "name": "stdout",
     "output_type": "stream",
     "text": [
      "Index(['Prospect ID', 'Lead Number', 'Lead Origin', 'Lead Source',\n",
      "       'Do Not Email', 'Do Not Call', 'Converted', 'TotalVisits',\n",
      "       'Total Time Spent on Website', 'Page Views Per Visit', 'Last Activity',\n",
      "       'Country', 'Specialization', 'How did you hear about X Education',\n",
      "       'What is your current occupation',\n",
      "       'What matters most to you in choosing a course', 'Search', 'Magazine',\n",
      "       'Newspaper Article', 'X Education Forums', 'Newspaper',\n",
      "       'Digital Advertisement', 'Through Recommendations',\n",
      "       'Receive More Updates About Our Courses', 'Tags', 'Lead Quality',\n",
      "       'Update me on Supply Chain Content', 'Get updates on DM Content',\n",
      "       'Lead Profile', 'City', 'Asymmetrique Activity Index',\n",
      "       'Asymmetrique Profile Index', 'Asymmetrique Activity Score',\n",
      "       'Asymmetrique Profile Score',\n",
      "       'I agree to pay the amount through cheque',\n",
      "       'A free copy of Mastering The Interview', 'Last Notable Activity'],\n",
      "      dtype='object')\n"
     ]
    }
   ],
   "source": [
    "print(data.columns)"
   ]
  },
  {
   "cell_type": "code",
   "execution_count": 17,
   "id": "30905c65-b808-430a-b7f6-2ff73cd26da6",
   "metadata": {},
   "outputs": [
    {
     "name": "stdout",
     "output_type": "stream",
     "text": [
      "Training data size (X_train): (6468, 36)\n",
      "Testing data size (X_test): (2772, 36)\n"
     ]
    }
   ],
   "source": [
    "from sklearn.model_selection import train_test_split\n",
    "\n",
    "# Split the data into training and testing sets\n",
    "X_train, X_test, y_train, y_test = train_test_split(X, y, test_size=0.3, random_state=42)\n",
    "\n",
    "# Print the shapes of the resulting sets to verify\n",
    "print(\"Training data size (X_train):\", X_train.shape)\n",
    "print(\"Testing data size (X_test):\", X_test.shape)\n"
   ]
  },
  {
   "cell_type": "code",
   "execution_count": 23,
   "id": "3be5b58b-a3d8-4c4f-a9c0-b9701bf9e076",
   "metadata": {},
   "outputs": [
    {
     "name": "stdout",
     "output_type": "stream",
     "text": [
      "6132\n",
      "              precision    recall  f1-score   support\n",
      "\n",
      "           0       0.73      0.88      0.80      1695\n",
      "           1       0.73      0.49      0.59      1077\n",
      "\n",
      "    accuracy                           0.73      2772\n",
      "   macro avg       0.73      0.69      0.69      2772\n",
      "weighted avg       0.73      0.73      0.72      2772\n",
      "\n",
      "[[1494  201]\n",
      " [ 545  532]]\n"
     ]
    }
   ],
   "source": [
    "import numpy as np\n",
    "from sklearn.impute import SimpleImputer\n",
    "from sklearn.linear_model import LogisticRegression\n",
    "\n",
    "# Step 1: Check for missing values in X_train (if it's a pandas DataFrame)\n",
    "if isinstance(X_train, pd.DataFrame):\n",
    "    print(X_train.isna().sum())  # Check for missing values in the features\n",
    "else:\n",
    "    print(np.isnan(X_train).sum())  # Check for missing values in numpy array\n",
    "\n",
    "# Step 2: Impute missing values in the features (X_train and X_test)\n",
    "imputer = SimpleImputer(strategy='mean')\n",
    "X_train_imputed = imputer.fit_transform(X_train)\n",
    "X_test_imputed = imputer.transform(X_test)\n",
    "\n",
    "# Step 3: Ensure that y_train is aligned with the imputed features (X_train_imputed)\n",
    "# If using pandas DataFrame for y_train, make sure the indices are aligned\n",
    "\n",
    "# Step 4: Initialize and train the Logistic Regression model\n",
    "model = LogisticRegression(max_iter=1000)\n",
    "model.fit(X_train_imputed, y_train)\n",
    "\n",
    "# Step 5: Make predictions and evaluate the model\n",
    "y_pred = model.predict(X_test_imputed)\n",
    "\n",
    "from sklearn.metrics import classification_report, confusion_matrix\n",
    "print(classification_report(y_test, y_pred))\n",
    "print(confusion_matrix(y_test, y_pred))\n"
   ]
  },
  {
   "cell_type": "code",
   "execution_count": 24,
   "id": "78c45201-56d8-4446-a731-1bda53798378",
   "metadata": {},
   "outputs": [
    {
     "name": "stdout",
     "output_type": "stream",
     "text": [
      "[[1494  201]\n",
      " [ 545  532]]\n",
      "              precision    recall  f1-score   support\n",
      "\n",
      "           0       0.73      0.88      0.80      1695\n",
      "           1       0.73      0.49      0.59      1077\n",
      "\n",
      "    accuracy                           0.73      2772\n",
      "   macro avg       0.73      0.69      0.69      2772\n",
      "weighted avg       0.73      0.73      0.72      2772\n",
      "\n"
     ]
    }
   ],
   "source": [
    "# Output classification metrics: precision, recall, F1-score, etc.\n",
    "from sklearn.metrics import confusion_matrix, classification_report\n",
    "\n",
    "print(confusion_matrix(y_test, y_pred))\n",
    "print(classification_report(y_test, y_pred))\n"
   ]
  },
  {
   "cell_type": "code",
   "execution_count": 25,
   "id": "d73b2be2-83fd-4b44-99c6-6cd082bc5406",
   "metadata": {},
   "outputs": [
    {
     "name": "stdout",
     "output_type": "stream",
     "text": [
      "Accuracy: 73.09%\n"
     ]
    }
   ],
   "source": [
    "accuracy = accuracy_score(y_test, y_pred)\n",
    "print(f\"Accuracy: {accuracy * 100:.2f}%\")\n"
   ]
  },
  {
   "cell_type": "code",
   "execution_count": 38,
   "id": "b4bbe219-b808-4c7c-b5cb-df482227bcbb",
   "metadata": {},
   "outputs": [
    {
     "name": "stdout",
     "output_type": "stream",
     "text": [
      "Precision: 0.7257844474761255\n",
      "Recall: 0.49396471680594245\n",
      "F1 Score: 0.5878453038674033\n"
     ]
    }
   ],
   "source": [
    "# Step 4: Evaluate the model's performance\n",
    "from sklearn.metrics import precision_score, recall_score, f1_score\n",
    "\n",
    "# Calculate metrics\n",
    "precision = precision_score(y_test, y_pred)\n",
    "recall = recall_score(y_test, y_pred)\n",
    "f1 = f1_score(y_test, y_pred)\n",
    "\n",
    "# Print the results\n",
    "print(f\"Precision: {precision}\")\n",
    "print(f\"Recall: {recall}\")\n",
    "print(f\"F1 Score: {f1}\")"
   ]
  },
  {
   "cell_type": "code",
   "execution_count": 41,
   "id": "82d0c9c9-f8ba-44d7-a732-60d7b36e4c6f",
   "metadata": {},
   "outputs": [
    {
     "name": "stdout",
     "output_type": "stream",
     "text": [
      "ROC-AUC: 0.7497588351780182\n"
     ]
    },
    {
     "data": {
      "image/png": "[encoded data removed]",
      "text/plain": [
       "<Figure size 640x480 with 1 Axes>"
      ]
     },
     "metadata": {},
     "output_type": "display_data"
    }
   ],
   "source": [
    "# Fit the logistic regression model\n",
    "model.fit(X_train_imputed, y_train)\n",
    "\n",
    "# Make predictions on the test set\n",
    "y_pred = model.predict_proba(X_test_imputed)[:, 1]\n",
    "\n",
    "# Calculate ROC-AUC score\n",
    "roc_auc = roc_auc_score(y_test, y_pred)\n",
    "print(f\"ROC-AUC: {roc_auc}\")\n",
    "\n",
    "# Plot ROC curve\n",
    "fpr, tpr, thresholds = roc_curve(y_test, y_pred)\n",
    "plt.figure()\n",
    "plt.plot(fpr, tpr, color='darkorange', lw=2, label='ROC curve (area = %0.2f)' % roc_auc)\n",
    "plt.plot([0, 1], [0, 1], color='navy', lw=2, linestyle='--')  # Diagonal line (random classifier)\n",
    "plt.xlabel('False Positive Rate')\n",
    "plt.ylabel('True Positive Rate')\n",
    "plt.title('Receiver Operating Characteristic (ROC) Curve')\n",
    "plt.legend(loc='lower right')\n",
    "plt.show()\n",
    "\n"
   ]
  },
  {
   "cell_type": "code",
   "execution_count": null,
   "id": "04374a1b-4c02-4d8d-a9d9-f0cca5a013c1",
   "metadata": {},
   "outputs": [],
   "source": []
  }
 ],
 "metadata": {
  "kernelspec": {
   "display_name": "Python 3 (ipykernel)",
   "language": "python",
   "name": "python3"
  },
  "language_info": {
   "codemirror_mode": {
    "name": "ipython",
    "version": 3
   },
   "file_extension": ".py",
   "mimetype": "text/x-python",
   "name": "python",
   "nbconvert_exporter": "python",
   "pygments_lexer": "ipython3",
   "version": "3.11.7"
  }
 },
 "nbformat": 4,
 "nbformat_minor": 5
}
